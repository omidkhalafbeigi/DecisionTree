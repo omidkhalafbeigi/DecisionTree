{
  "nbformat": 4,
  "nbformat_minor": 0,
  "metadata": {
    "colab": {
      "name": "DecisionTree.ipynb",
      "provenance": [],
      "collapsed_sections": []
    },
    "kernelspec": {
      "name": "python3",
      "display_name": "Python 3"
    }
  },
  "cells": [
    {
      "cell_type": "code",
      "metadata": {
        "id": "aJaQz6WBir_A"
      },
      "source": [
        "import pandas as pd\n",
        "import numpy as np\n",
        "from math import *"
      ],
      "execution_count": null,
      "outputs": []
    },
    {
      "cell_type": "code",
      "metadata": {
        "id": "nQp-fcbjhUyW"
      },
      "source": [
        "df = pd.DataFrame(data={'Outlook': ['Sunny', 'Sunny', 'Overcast', 'Rain', 'Rain', 'Rain', 'Overcast', 'Sunny', 'Sunny',\n",
        "                                    'Rain', 'Sunny', 'Overcast', 'Overcast', 'Rain'],\n",
        "                        'Temp': ['Hot', 'Hot', 'Hot', 'Mild', 'Cool', 'Cool', 'Cool', 'Mild', 'Cool', 'Mild', 'Mild',\n",
        "                                 'Mild', 'Hot', 'Mild'],\n",
        "                        'Humidity': ['High', 'High', 'High', 'High', 'Normal', 'Normal', 'Normal', 'High', 'Normal',\n",
        "                                     'Normal', 'Normal', 'High', 'Normal', 'High'],\n",
        "                        'Wind': ['Weak', 'Strong', 'Weak', 'Weak', 'Weak', 'Strong', 'Strong', 'Weak', 'Weak', 'Weak',\n",
        "                                 'Strong', 'Strong', 'Weak', 'Strong'],\n",
        "                        'PlayTennis': ['No', 'No', 'Yes', 'Yes', 'Yes', 'No', 'Yes', 'No', 'Yes', 'Yes', 'Yes', 'Yes',\n",
        "                                       'Yes', 'No']})"
      ],
      "execution_count": null,
      "outputs": []
    },
    {
      "cell_type": "code",
      "metadata": {
        "id": "WyvoQP9OUjrQ"
      },
      "source": [
        "X = df.loc[:, 'Outlook':'Wind']\r\n",
        "y = df.loc[:, 'PlayTennis']"
      ],
      "execution_count": null,
      "outputs": []
    },
    {
      "cell_type": "code",
      "metadata": {
        "id": "810VwXHJexGt"
      },
      "source": [
        "class DecisionTree:\r\n",
        "    def __init__(self):\r\n",
        "        self.tree = list()\r\n",
        "\r\n",
        "    def entropy(self, value_counts):\r\n",
        "        entropy = 0\r\n",
        "        s = sum(value_counts)\r\n",
        "        for count in value_counts:\r\n",
        "            p = (count / s)\r\n",
        "            entropy += (-(p * log2(p)))\r\n",
        "\r\n",
        "        return entropy\r\n",
        "\r\n",
        "    def fit(self, X: pd.DataFrame, y: pd.DataFrame):\r\n",
        "        table = X\r\n",
        "        labels = y\r\n",
        "        leaf_generated = False\r\n",
        "\r\n",
        "        p = 0\r\n",
        "        entropy_s = 0\r\n",
        "        information_gain = 0\r\n",
        "        information_gain_right_eq = 0\r\n",
        "        information_gain_list = list()\r\n",
        "\r\n",
        "        entropy_s = self.entropy(labels.value_counts())\r\n",
        "        s = len(y)\r\n",
        "\r\n",
        "        for field in table.columns:\r\n",
        "            for sv in table[field].value_counts().index:\r\n",
        "                sv = y[X[field] == sv]\r\n",
        "                information_gain_right_eq += ((len(sv) / s) * self.entropy(sv.value_counts()))\r\n",
        "                \r\n",
        "            information_gain = entropy_s - information_gain_right_eq\r\n",
        "            information_gain_list.append(information_gain)\r\n",
        "            information_gain_right_eq = 0\r\n",
        "\r\n",
        "        root = X.columns[np.argmax(np.array(information_gain_list))]\r\n",
        "            \r\n",
        "        information_gain_list.clear()\r\n",
        "\r\n",
        "        for value in table[root].value_counts().index:\r\n",
        "            if len(set(y[X[root] == value])) == 1:\r\n",
        "               self.tree.append(root)\r\n",
        "               self.tree.append(value)\r\n",
        "               for i in set(y[X[root] == value]):\r\n",
        "                 self.tree.append(i)\r\n",
        "            else:\r\n",
        "              labels = y[X[root] == value]\r\n",
        "              self.tree.append(root)\r\n",
        "              self.tree.append(value)\r\n",
        "              self.fit(X = X.loc[labels.index, :].drop(columns=root), y = y[labels.index])\r\n",
        "\r\n",
        "        return self.tree\r\n"
      ],
      "execution_count": null,
      "outputs": []
    },
    {
      "cell_type": "code",
      "metadata": {
        "id": "Fe45EdX2DidQ"
      },
      "source": [
        "tree = DecisionTree()"
      ],
      "execution_count": null,
      "outputs": []
    },
    {
      "cell_type": "code",
      "metadata": {
        "id": "igrKBZ22IbB7"
      },
      "source": [
        "tree_fit = tree.fit(X, y)"
      ],
      "execution_count": null,
      "outputs": []
    },
    {
      "cell_type": "code",
      "metadata": {
        "id": "aMJtE3leayhx",
        "colab": {
          "base_uri": "https://localhost:8080/"
        },
        "outputId": "2fcad4ae-4c03-4e8c-d3f7-186f8caaf3e5"
      },
      "source": [
        "tree_fit"
      ],
      "execution_count": null,
      "outputs": [
        {
          "output_type": "execute_result",
          "data": {
            "text/plain": [
              "['Outlook',\n",
              " 'Rain',\n",
              " 'Wind',\n",
              " 'Weak',\n",
              " 'Yes',\n",
              " 'Wind',\n",
              " 'Strong',\n",
              " 'No',\n",
              " 'Outlook',\n",
              " 'Sunny',\n",
              " 'Humidity',\n",
              " 'High',\n",
              " 'No',\n",
              " 'Humidity',\n",
              " 'Normal',\n",
              " 'Yes',\n",
              " 'Outlook',\n",
              " 'Overcast',\n",
              " 'Yes']"
            ]
          },
          "metadata": {
            "tags": []
          },
          "execution_count": 23
        }
      ]
    },
    {
      "cell_type": "code",
      "metadata": {
        "id": "Sg522aKQIh4n"
      },
      "source": [
        ""
      ],
      "execution_count": null,
      "outputs": []
    }
  ]
}